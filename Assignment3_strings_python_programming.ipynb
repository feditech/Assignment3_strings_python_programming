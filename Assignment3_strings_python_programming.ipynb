{
 "cells": [
  {
   "cell_type": "markdown",
   "id": "fa4af6c9-82dd-47db-bf6b-d32968a58f02",
   "metadata": {},
   "source": [
    "#                                                                String Assignment"
   ]
  },
  {
   "cell_type": "markdown",
   "id": "e8f6a1b1-9854-4840-89e4-152a5b54fdcf",
   "metadata": {},
   "source": [
    "##### 1. Write a program that accepts a string from user. Your program should count and display number of \n",
    "vowels in that string. "
   ]
  },
  {
   "cell_type": "code",
   "execution_count": 1,
   "id": "e3284d48-5c60-4626-9bbb-d5425d04f778",
   "metadata": {},
   "outputs": [
    {
     "name": "stdout",
     "output_type": "stream",
     "text": [
      "Enter a sentence Hello\n"
     ]
    },
    {
     "name": "stdout",
     "output_type": "stream",
     "text": [
      "Total vowels: 2\n"
     ]
    }
   ],
   "source": [
    "txt = input(\"Enter a sentence\").lower()\n",
    "vowels =\"aeiou\"\n",
    "count =0 \n",
    "for char in txt:\n",
    "    if char in vowels:\n",
    "        count+=1\n",
    "print(f\"Total vowels: {count}\" )\n",
    "    \n"
   ]
  },
  {
   "cell_type": "markdown",
   "id": "a6c136a6-3671-4664-9981-7912ee3021a8",
   "metadata": {},
   "source": [
    "##### 2. Write a program that reads a string from keyboard and display: \n",
    "* The number of uppercase letters in the string \n",
    "* The number of lowercase letters in the string \n",
    "* The number of digits in the string \n",
    "* The number of whitespace characters in the string"
   ]
  },
  {
   "cell_type": "code",
   "execution_count": 3,
   "id": "86a9b5b3-97ec-4b1a-bcf5-70570014e7a8",
   "metadata": {},
   "outputs": [
    {
     "name": "stdout",
     "output_type": "stream",
     "text": [
      "Enter a sentence Hi how are you 12\n"
     ]
    },
    {
     "name": "stdout",
     "output_type": "stream",
     "text": [
      "\n",
      "Sentence: Hi how are you 12\n",
      "Uppercase Letters: 1\n",
      "Lowercase letters: 10\n",
      "Digits           : 2\n",
      "White spaces     : 4    \n",
      "\n"
     ]
    }
   ],
   "source": [
    "txt = input(\"Enter a sentence\")\n",
    "uppercaseLetters = 0\n",
    "lowerCaseLetters = 0\n",
    "digits = 0\n",
    "whiteSpaceCharacters= 0\n",
    "for char in txt:\n",
    "    if (char.isupper()):\n",
    "        uppercaseLetters +=1\n",
    "    elif (char.islower()):\n",
    "        lowerCaseLetters+=1\n",
    "    elif (char.isdigit()):\n",
    "        digits+=1\n",
    "    elif (char == \" \"):\n",
    "        whiteSpaceCharacters+=1\n",
    "print(f\"\"\"\n",
    "Sentence: {txt}\n",
    "Uppercase Letters: {uppercaseLetters}\n",
    "Lowercase letters: {lowerCaseLetters}\n",
    "Digits           : {digits}\n",
    "White spaces     : {whiteSpaceCharacters}    \n",
    "\"\"\")"
   ]
  },
  {
   "cell_type": "markdown",
   "id": "c88b6a90-4728-47c4-942e-9f59a44ff44d",
   "metadata": {},
   "source": [
    "# 3. \n",
    "### Write a Python program that accepts a string from user. Your program should create and display a new string where the first and last character have been exchanged. \n",
    "#### For example if the user enters the string 'HELLO' then new string would be 'OELLH'\n",
    "\n"
   ]
  },
  {
   "cell_type": "code",
   "execution_count": 5,
   "id": "22dc447e-2d55-4ed0-b00d-9bc721a9f06c",
   "metadata": {},
   "outputs": [
    {
     "name": "stdin",
     "output_type": "stream",
     "text": [
      "Enter a string Hello\n"
     ]
    },
    {
     "name": "stdout",
     "output_type": "stream",
     "text": [
      "oellH\n"
     ]
    }
   ],
   "source": [
    "string = input(\"Enter a string\")\n",
    "string = string[-1] + string[1:-1] + string[0]\n",
    "print(string)"
   ]
  },
  {
   "cell_type": "markdown",
   "id": "f4a844fd-a8f6-4481-baa5-3873fe675ed4",
   "metadata": {},
   "source": [
    "## 4. \n",
    "### Write a Python program that accepts a string from user. Your program should create a new string in \n",
    "reverse of first string and display it\n",
    "### \r\n",
    "For example if the user enters the string 'EXAM' then new string would be 'MAXE' "
   ]
  },
  {
   "cell_type": "code",
   "execution_count": 35,
   "id": "f48d6e35-f958-4aab-9fb7-e63d82105a7e",
   "metadata": {},
   "outputs": [
    {
     "name": "stdin",
     "output_type": "stream",
     "text": [
      "Enter a string EXAM ARE EXAM\n"
     ]
    },
    {
     "name": "stdout",
     "output_type": "stream",
     "text": [
      "MAXE ERA MAXE\n"
     ]
    }
   ],
   "source": [
    "string = input(\"Enter a string\")\n",
    "l = list(string)\n",
    "l.reverse()\n",
    "reversedStr=\"\"\n",
    "for char in l:\n",
    "    reversedStr+=char\n",
    "print(reversedStr)\n"
   ]
  },
  {
   "cell_type": "markdown",
   "id": "9a32bd32-34ac-45e7-80ea-a0b63dbc4539",
   "metadata": {},
   "source": [
    "# 5.\n",
    "### Write a Python program that accepts a string from the user. Your program should create a new string by shifting one position to the left. \n",
    "### For example, if the user enters the string 'examination 2021' then the new string would be 'xamination 2021e'.e' "
   ]
  },
  {
   "cell_type": "code",
   "execution_count": 38,
   "id": "957d0e37-1ffd-4bd1-b2fe-41132839d2e2",
   "metadata": {},
   "outputs": [
    {
     "name": "stdin",
     "output_type": "stream",
     "text": [
      "Enter a string examination 2021\n"
     ]
    },
    {
     "name": "stdout",
     "output_type": "stream",
     "text": [
      "xamination 2021e\n"
     ]
    }
   ],
   "source": [
    "string = input(\"Enter a string\")\n",
    "string = string[1: len(string)] + string[0]\n",
    "print(string)"
   ]
  },
  {
   "cell_type": "markdown",
   "id": "19550f7c-bd44-4660-b371-72be5eb9c7ca",
   "metadata": {},
   "source": [
    "# 6.\n",
    "### Write a program that asks the user to input his name and print its initials. Assuming that the user first name, middle name and lastname and does not include any unnecessary space\n",
    "### For example, if the user enters Ajay Kumar Garg the program should display A. K. G\n",
    "### Note:Don't use split() method."
   ]
  },
  {
   "cell_type": "code",
   "execution_count": 10,
   "id": "469ea237-c386-41d7-99ab-7c172b1fed21",
   "metadata": {},
   "outputs": [
    {
     "name": "stdin",
     "output_type": "stream",
     "text": [
      "Enter name Ajay Kumar Garg\n"
     ]
    },
    {
     "name": "stdout",
     "output_type": "stream",
     "text": [
      "A K G\n"
     ]
    }
   ],
   "source": [
    "name  =  input(\"Enter name\")\n",
    "spaceIndexes = []\n",
    "for ind,char in enumerate(name):\n",
    "    if (char == \" \"):\n",
    "        spaceIndexes.append(ind)\n",
    "firstName = name[:spaceIndexes[0]]\n",
    "middleName = name[spaceIndexes[0]+1:spaceIndexes[1]]\n",
    "lastName = name[spaceIndexes[1]+1:]\n",
    "print(firstName[0].capitalize(), middleName[0].capitalize(), lastName[0].capitalize()  )"
   ]
  },
  {
   "cell_type": "markdown",
   "id": "04acb9cf-a180-4dd9-b76e-bd940a88d318",
   "metadata": {},
   "source": [
    "# 7.\n",
    "### A palindrome is a string that reads the same backward as forward. For example, the words dad, madam and radar are all palindromes. Write a programs that determines whether the string is a palindrome\n",
    "### Note:Don't use reverse() method."
   ]
  },
  {
   "cell_type": "code",
   "execution_count": 33,
   "id": "5c748090-0c8f-439c-86fa-29629bb795f0",
   "metadata": {},
   "outputs": [
    {
     "name": "stdin",
     "output_type": "stream",
     "text": [
      "Enter a string daad\n"
     ]
    },
    {
     "name": "stdout",
     "output_type": "stream",
     "text": [
      "\n",
      "    DAAD is a Palindrome.\n",
      "    \n"
     ]
    }
   ],
   "source": [
    "# This will import math module\n",
    "import math\n",
    "str = input(\"Enter a string\").lower()\n",
    "firstHalf=\"\"\n",
    "secondHalf=\"\"\n",
    "reversedSecondHalf=\"\"\n",
    "if len(str) % 2 ==0:\n",
    "    firstHalf=str[0:len(str)//2]\n",
    "    secondHalf=str[len(str)//2:len(str)]\n",
    "    for i in range(len(secondHalf),0,-1):\n",
    "        reversedSecondHalf += secondHalf[i-1]\n",
    "else:\n",
    "    firstHalf=str[0:math.ceil(len(str)/2)]\n",
    "    secondHalf=str[len(str)//2:len(str)]\n",
    "    for i in range(len(secondHalf),0,-1):\n",
    "        reversedSecondHalf += secondHalf[i-1]\n",
    "if firstHalf == reversedSecondHalf:\n",
    "    print(f\"\"\"\n",
    "    {str.upper()} is a Palindrome.\n",
    "    \"\"\")\n",
    "else:\n",
    "     print(f\"\"\"\n",
    "    {str.upper()} is not a Palindrome.\n",
    "    \"\"\")\n"
   ]
  },
  {
   "cell_type": "markdown",
   "id": "ccc8243a-d072-41b6-971a-0bc140563b6b",
   "metadata": {},
   "source": [
    "# 8. \n",
    "### Write a program that display following output: \r\n",
    "SHIFT \r\n",
    "HIFTS \r\n",
    "IFTSH \r\n",
    "FTSHI \r\n",
    "TSHIF \r\n",
    "SHIFT \r"
   ]
  },
  {
   "cell_type": "code",
   "execution_count": 80,
   "id": "5eefc146-78aa-468e-ae6a-02c5e9a48809",
   "metadata": {},
   "outputs": [
    {
     "name": "stdin",
     "output_type": "stream",
     "text": [
      "ENTER ANY WORD SHIFT\n"
     ]
    },
    {
     "name": "stdout",
     "output_type": "stream",
     "text": [
      "SHIFT\n",
      "HIFTS\n",
      "IFTSH\n",
      "FTSHI\n",
      "TSHIF\n",
      "SHIFT\n"
     ]
    }
   ],
   "source": [
    "str = input(\"ENTER ANY WORD\")\n",
    "print(str)\n",
    "for i in range(len(str)): \n",
    "    str = str[1:len(str)] + str[0]\n",
    "    print(str)"
   ]
  },
  {
   "cell_type": "markdown",
   "id": "3d7e0d28-88f2-47fb-8ed8-89cbe76bb99c",
   "metadata": {},
   "source": [
    "# 9. \n",
    "### Write a program in python that accepts a string to setup a passwords. Your entered password must \n",
    "meet the following requirements:\n",
    "\n",
    " \r\n",
    "The password must be at least eight characters lon\n",
    "  \r\n",
    "It must contain at least one uppercase lett\n",
    " . \r\n",
    "It must contain at least one lowercase lett\n",
    " r. \r\n",
    "It must contain at least one numeric di\n",
    "it. \r\n",
    "Your program should should perform this validation."
   ]
  },
  {
   "cell_type": "code",
   "execution_count": 95,
   "id": "7549b19b-e2e2-45c8-aa30-17989c6328d0",
   "metadata": {},
   "outputs": [
    {
     "name": "stdin",
     "output_type": "stream",
     "text": [
      "ENTER A PASSWORD dsdasdasd!!!\n"
     ]
    },
    {
     "name": "stdout",
     "output_type": "stream",
     "text": [
      "Password must have atleat 1 uppercase letter\n"
     ]
    }
   ],
   "source": [
    "password = input(\"ENTER A PASSWORD\")\n",
    "hasUpper=False\n",
    "hasLower=False\n",
    "hasNumber=False\n",
    "if len(password) >= 8:\n",
    "    for char in password:\n",
    "        if char.isalpha():\n",
    "            if char.islower():\n",
    "                hasLower =True\n",
    "            else:\n",
    "                hasUpper=True\n",
    "        else:\n",
    "            hasNumber =True\n",
    "else:\n",
    "    print(\"Password must be atleat 8 character long\") \n",
    "\n",
    "\n",
    "\n",
    "if not hasLower:\n",
    "    print(\"Password must have atleat 1 lowercase letter\")\n",
    "elif not hasUpper:\n",
    "    print(\"Password must have atleat 1 uppercase letter\")\n",
    "elif not hasNumber:\n",
    "    print(\"Password must have atleat 1 numeric digit\")\n",
    "else:\n",
    "    print(\"YOU ARE LOGGED IN\")"
   ]
  },
  {
   "cell_type": "code",
   "execution_count": null,
   "id": "032cd623-df2b-4713-b215-8d86d4f35b3f",
   "metadata": {},
   "outputs": [],
   "source": []
  },
  {
   "cell_type": "code",
   "execution_count": null,
   "id": "7f78b1b0-9c78-43e6-999d-a49b953aefce",
   "metadata": {},
   "outputs": [],
   "source": []
  },
  {
   "cell_type": "code",
   "execution_count": null,
   "id": "3c5a738a-83dc-479f-a1a3-b5aaf01af7d4",
   "metadata": {},
   "outputs": [],
   "source": []
  },
  {
   "cell_type": "code",
   "execution_count": null,
   "id": "84e86177-e54d-4fd2-8a8a-b243f4f67db2",
   "metadata": {},
   "outputs": [],
   "source": []
  }
 ],
 "metadata": {
  "kernelspec": {
   "display_name": "Python 3 (ipykernel)",
   "language": "python",
   "name": "python3"
  },
  "language_info": {
   "codemirror_mode": {
    "name": "ipython",
    "version": 3
   },
   "file_extension": ".py",
   "mimetype": "text/x-python",
   "name": "python",
   "nbconvert_exporter": "python",
   "pygments_lexer": "ipython3",
   "version": "3.11.7"
  }
 },
 "nbformat": 4,
 "nbformat_minor": 5
}
