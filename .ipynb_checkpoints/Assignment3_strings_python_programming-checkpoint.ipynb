{
 "cells": [
  {
   "cell_type": "markdown",
   "id": "fa4af6c9-82dd-47db-bf6b-d32968a58f02",
   "metadata": {},
   "source": [
    "#                                                                String Assignment"
   ]
  },
  {
   "cell_type": "markdown",
   "id": "e8f6a1b1-9854-4840-89e4-152a5b54fdcf",
   "metadata": {},
   "source": [
    "##### 1. Write a program that accepts a string from user. Your program should count and display number of \n",
    "vowels in that string. "
   ]
  },
  {
   "cell_type": "code",
   "execution_count": 1,
   "id": "e3284d48-5c60-4626-9bbb-d5425d04f778",
   "metadata": {},
   "outputs": [
    {
     "name": "stdin",
     "output_type": "stream",
     "text": [
      "Enter a sentence Hello\n"
     ]
    },
    {
     "name": "stdout",
     "output_type": "stream",
     "text": [
      "Total vowels: 2\n"
     ]
    }
   ],
   "source": [
    "txt = input(\"Enter a sentence\").lower()\n",
    "vowels =\"aeiou\"\n",
    "count =0 \n",
    "for char in txt:\n",
    "    if char in vowels:\n",
    "        count+=1\n",
    "print(f\"Total vowels: {count}\" )\n",
    "    \n"
   ]
  },
  {
   "cell_type": "markdown",
   "id": "a6c136a6-3671-4664-9981-7912ee3021a8",
   "metadata": {},
   "source": [
    "##### 2. Write a program that reads a string from keyboard and display: \r\n",
    "* The number of uppercase letters in the string \r\n",
    "* The number of lowercase letters in the string \r\n",
    "* The number of digits in the string \r\n",
    "* The number of whitespace characters in the string"
   ]
  },
  {
   "cell_type": "code",
   "execution_count": 3,
   "id": "86a9b5b3-97ec-4b1a-bcf5-70570014e7a8",
   "metadata": {},
   "outputs": [
    {
     "name": "stdin",
     "output_type": "stream",
     "text": [
      "Enter a sentence Hi how are you 12\n"
     ]
    },
    {
     "name": "stdout",
     "output_type": "stream",
     "text": [
      "\n",
      "Sentence: Hi how are you 12\n",
      "Uppercase Letters: 1\n",
      "Lowercase letters: 10\n",
      "Digits           : 2\n",
      "White spaces     : 4    \n",
      "\n"
     ]
    }
   ],
   "source": [
    "txt = input(\"Enter a sentence\")\n",
    "uppercaseLetters = 0\n",
    "lowerCaseLetters = 0\n",
    "digits = 0\n",
    "whiteSpaceCharacters= 0\n",
    "for char in txt:\n",
    "    if (char.isupper()):\n",
    "        uppercaseLetters +=1\n",
    "    elif (char.islower()):\n",
    "        lowerCaseLetters+=1\n",
    "    elif (char.isdigit()):\n",
    "        digits+=1\n",
    "    elif (char == \" \"):\n",
    "        whiteSpaceCharacters+=1\n",
    "print(f\"\"\"\n",
    "Sentence: {txt}\n",
    "Uppercase Letters: {uppercaseLetters}\n",
    "Lowercase letters: {lowerCaseLetters}\n",
    "Digits           : {digits}\n",
    "White spaces     : {whiteSpaceCharacters}    \n",
    "\"\"\")"
   ]
  },
  {
   "cell_type": "code",
   "execution_count": null,
   "id": "3dcd681f-5470-419e-87d2-092dbade6533",
   "metadata": {},
   "outputs": [],
   "source": []
  },
  {
   "cell_type": "code",
   "execution_count": null,
   "id": "de7e5ca8-d46b-45b1-b0f4-27bacf59fedc",
   "metadata": {},
   "outputs": [],
   "source": []
  },
  {
   "cell_type": "code",
   "execution_count": null,
   "id": "22dc447e-2d55-4ed0-b00d-9bc721a9f06c",
   "metadata": {},
   "outputs": [],
   "source": []
  },
  {
   "cell_type": "code",
   "execution_count": null,
   "id": "c555e663-c2a5-4c65-98ae-e60b6309bb58",
   "metadata": {},
   "outputs": [],
   "source": []
  },
  {
   "cell_type": "code",
   "execution_count": null,
   "id": "f48d6e35-f958-4aab-9fb7-e63d82105a7e",
   "metadata": {},
   "outputs": [],
   "source": []
  },
  {
   "cell_type": "code",
   "execution_count": null,
   "id": "9521ea39-556d-4b50-94b7-c09af96d60e2",
   "metadata": {},
   "outputs": [],
   "source": []
  },
  {
   "cell_type": "code",
   "execution_count": null,
   "id": "957d0e37-1ffd-4bd1-b2fe-41132839d2e2",
   "metadata": {},
   "outputs": [],
   "source": []
  },
  {
   "cell_type": "code",
   "execution_count": null,
   "id": "bc1dae7d-59df-4be3-8a60-03e14edabb1c",
   "metadata": {},
   "outputs": [],
   "source": []
  },
  {
   "cell_type": "code",
   "execution_count": null,
   "id": "469ea237-c386-41d7-99ab-7c172b1fed21",
   "metadata": {},
   "outputs": [],
   "source": []
  },
  {
   "cell_type": "code",
   "execution_count": null,
   "id": "1029fa97-a794-4b2a-b5bc-03ac8924f3c3",
   "metadata": {},
   "outputs": [],
   "source": []
  },
  {
   "cell_type": "code",
   "execution_count": null,
   "id": "5c748090-0c8f-439c-86fa-29629bb795f0",
   "metadata": {},
   "outputs": [],
   "source": []
  },
  {
   "cell_type": "code",
   "execution_count": null,
   "id": "5947b01f-b35e-4026-ab6e-a1c8ab534ab6",
   "metadata": {},
   "outputs": [],
   "source": []
  },
  {
   "cell_type": "code",
   "execution_count": null,
   "id": "5eefc146-78aa-468e-ae6a-02c5e9a48809",
   "metadata": {},
   "outputs": [],
   "source": []
  },
  {
   "cell_type": "code",
   "execution_count": null,
   "id": "7c082646-52fc-4d42-bdfe-9643fc7183fb",
   "metadata": {},
   "outputs": [],
   "source": []
  },
  {
   "cell_type": "code",
   "execution_count": null,
   "id": "7549b19b-e2e2-45c8-aa30-17989c6328d0",
   "metadata": {},
   "outputs": [],
   "source": []
  },
  {
   "cell_type": "code",
   "execution_count": null,
   "id": "032cd623-df2b-4713-b215-8d86d4f35b3f",
   "metadata": {},
   "outputs": [],
   "source": []
  },
  {
   "cell_type": "code",
   "execution_count": null,
   "id": "7f78b1b0-9c78-43e6-999d-a49b953aefce",
   "metadata": {},
   "outputs": [],
   "source": []
  },
  {
   "cell_type": "code",
   "execution_count": null,
   "id": "3c5a738a-83dc-479f-a1a3-b5aaf01af7d4",
   "metadata": {},
   "outputs": [],
   "source": []
  },
  {
   "cell_type": "code",
   "execution_count": null,
   "id": "84e86177-e54d-4fd2-8a8a-b243f4f67db2",
   "metadata": {},
   "outputs": [],
   "source": []
  }
 ],
 "metadata": {
  "kernelspec": {
   "display_name": "Python 3 (ipykernel)",
   "language": "python",
   "name": "python3"
  },
  "language_info": {
   "codemirror_mode": {
    "name": "ipython",
    "version": 3
   },
   "file_extension": ".py",
   "mimetype": "text/x-python",
   "name": "python",
   "nbconvert_exporter": "python",
   "pygments_lexer": "ipython3",
   "version": "3.11.7"
  }
 },
 "nbformat": 4,
 "nbformat_minor": 5
}
